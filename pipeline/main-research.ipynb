{
 "cells": [
  {
   "cell_type": "code",
   "execution_count": 78,
   "metadata": {},
   "outputs": [],
   "source": [
    "import os\n",
    "import gc\n",
    "import sys\n",
    "import importlib as imp\n",
    "import numpy as np\n",
    "import pandas as pd\n",
    "from tqdm import tqdm, tqdm_notebook\n",
    "sys.path.append('..')"
   ]
  },
  {
   "cell_type": "markdown",
   "metadata": {},
   "source": [
    "# 1. Data Loading"
   ]
  },
  {
   "cell_type": "code",
   "execution_count": 8,
   "metadata": {},
   "outputs": [],
   "source": [
    "NAME = 'ohsumed'\n",
    "X_train_df = pd.read_csv('../data/%s/clean/%s_train.csv' % (NAME, NAME))\n",
    "X_train_df = X_train_df[X_train_df.columns[-4:]]\n",
    "X_test_df = pd.read_csv('../data/%s/clean/%s_test.csv' % (NAME, NAME))\n",
    "X_test_df = X_test_df[X_test_df.columns[-4:]]"
   ]
  },
  {
   "cell_type": "markdown",
   "metadata": {},
   "source": [
    "# 2. Data preprocessing"
   ]
  },
  {
   "cell_type": "markdown",
   "metadata": {},
   "source": [
    "## 2.1 Preprocess text \n",
    "```already DONE```"
   ]
  },
  {
   "cell_type": "code",
   "execution_count": 25,
   "metadata": {},
   "outputs": [
    {
     "name": "stderr",
     "output_type": "stream",
     "text": [
      "[nltk_data] Downloading package punkt to\n",
      "[nltk_data]     C:\\Users\\vadik\\AppData\\Roaming\\nltk_data...\n",
      "[nltk_data]   Package punkt is already up-to-date!\n",
      "[nltk_data] Downloading package punkt to\n",
      "[nltk_data]     C:\\Users\\vadik\\AppData\\Roaming\\nltk_data...\n",
      "[nltk_data]   Package punkt is already up-to-date!\n"
     ]
    }
   ],
   "source": [
    "import preprocess.text as ptext\n",
    "ptext = imp.reload(ptext)\n",
    "\n",
    "text_preprocessor = ptext.CorpusProcessor()\n",
    "\n",
    "# X_train_df = text_preprocessor.preprocess(df=X_train_df)\n",
    "# X_test_df = text_preprocessor.preprocess(df=X_test_df)"
   ]
  },
  {
   "cell_type": "code",
   "execution_count": 65,
   "metadata": {},
   "outputs": [
    {
     "name": "stderr",
     "output_type": "stream",
     "text": [
      "[nltk_data] Downloading package punkt to\n",
      "[nltk_data]     C:\\Users\\vadik\\AppData\\Roaming\\nltk_data...\n",
      "[nltk_data]   Package punkt is already up-to-date!\n"
     ]
    }
   ],
   "source": [
    "import nltk\n",
    "from nltk.tokenize import word_tokenize\n",
    "nltk.download('punkt')\n",
    "\n",
    "X_train_df['tokens'] = X_train_df['clean_text'].apply(lambda x: word_tokenize(x))\n",
    "X_test_df['tokens'] = X_test_df['clean_text'].apply(lambda x: word_tokenize(x))"
   ]
  },
  {
   "cell_type": "markdown",
   "metadata": {},
   "source": [
    "## 2.2. Build vocab"
   ]
  },
  {
   "cell_type": "code",
   "execution_count": 112,
   "metadata": {},
   "outputs": [
    {
     "data": {
      "application/vnd.jupyter.widget-view+json": {
       "model_id": "11d9997380e04c81a0788c82e43d3393",
       "version_major": 2,
       "version_minor": 0
      },
      "text/plain": [
       "HBox(children=(FloatProgress(value=0.0, max=3357.0), HTML(value='')))"
      ]
     },
     "metadata": {},
     "output_type": "display_data"
    },
    {
     "name": "stdout",
     "output_type": "stream",
     "text": [
      "\n",
      "VOCAB SIZE: 3236\n"
     ]
    }
   ],
   "source": [
    "import preprocess.utils as putils\n",
    "putils = imp.reload(putils)\n",
    "\n",
    "MIN_TF = 15\n",
    "MAX_TF = 500\n",
    "MASTER_NODE = False\n",
    "\n",
    "\n",
    "vocab_terms, term2id = putils.build_vocab(X_train_df['clean_text'], \n",
    "                                          min_tf=MIN_TF, \n",
    "                                          max_tf=MAX_TF,\n",
    "                                          master_node=MASTER_NODE)\n",
    "\n",
    "print('VOCAB SIZE:', len(vocab_terms))"
   ]
  },
  {
   "cell_type": "code",
   "execution_count": 109,
   "metadata": {},
   "outputs": [],
   "source": [
    "# term2id"
   ]
  },
  {
   "cell_type": "markdown",
   "metadata": {},
   "source": [
    "## 2.2. Build text-network"
   ]
  },
  {
   "cell_type": "code",
   "execution_count": 39,
   "metadata": {},
   "outputs": [],
   "source": [
    "import networkx as nx\n",
    "import preprocess.graph as pgraph\n",
    "pgraph = imp.reload(pgraph)"
   ]
  },
  {
   "cell_type": "code",
   "execution_count": 57,
   "metadata": {},
   "outputs": [
    {
     "name": "stdout",
     "output_type": "stream",
     "text": [
      "treatment oral candidosis itraconazole review oral candidosis common infection infant elderly person patient receive immunosuppressive therapy patient acquire immunodeficiency syndrome\n"
     ]
    }
   ],
   "source": [
    "sample_text = X_train_df['clean_text'].iloc[10].split()[:20]\n",
    "print(' '.join(sample_text))"
   ]
  },
  {
   "cell_type": "code",
   "execution_count": 61,
   "metadata": {},
   "outputs": [],
   "source": [
    "win_size = 3\n",
    "max_nds = 9\n",
    "\n",
    "G_sample = pgraph.doc2graph(sample_text, \n",
    "                            max_nodes=max_nds, \n",
    "                            window_size=win_size, \n",
    "                            infranodus_weights=True, \n",
    "                            is_directed=True)"
   ]
  },
  {
   "cell_type": "code",
   "execution_count": 62,
   "metadata": {},
   "outputs": [
    {
     "data": {
      "text/html": [
       "<div>\n",
       "<style scoped>\n",
       "    .dataframe tbody tr th:only-of-type {\n",
       "        vertical-align: middle;\n",
       "    }\n",
       "\n",
       "    .dataframe tbody tr th {\n",
       "        vertical-align: top;\n",
       "    }\n",
       "\n",
       "    .dataframe thead th {\n",
       "        text-align: right;\n",
       "    }\n",
       "</style>\n",
       "<table border=\"1\" class=\"dataframe\">\n",
       "  <thead>\n",
       "    <tr style=\"text-align: right;\">\n",
       "      <th></th>\n",
       "      <th>treatment</th>\n",
       "      <th>oral</th>\n",
       "      <th>candidosis</th>\n",
       "      <th>itraconazole</th>\n",
       "      <th>review</th>\n",
       "      <th>common</th>\n",
       "      <th>infection</th>\n",
       "      <th>infant</th>\n",
       "      <th>elderly</th>\n",
       "    </tr>\n",
       "  </thead>\n",
       "  <tbody>\n",
       "    <tr>\n",
       "      <th>treatment</th>\n",
       "      <td>1</td>\n",
       "      <td>3</td>\n",
       "      <td>2</td>\n",
       "      <td>1</td>\n",
       "      <td>0</td>\n",
       "      <td>0</td>\n",
       "      <td>0</td>\n",
       "      <td>0</td>\n",
       "      <td>0</td>\n",
       "    </tr>\n",
       "    <tr>\n",
       "      <th>oral</th>\n",
       "      <td>0</td>\n",
       "      <td>1</td>\n",
       "      <td>3</td>\n",
       "      <td>2</td>\n",
       "      <td>1</td>\n",
       "      <td>2</td>\n",
       "      <td>1</td>\n",
       "      <td>0</td>\n",
       "      <td>0</td>\n",
       "    </tr>\n",
       "    <tr>\n",
       "      <th>candidosis</th>\n",
       "      <td>0</td>\n",
       "      <td>1</td>\n",
       "      <td>1</td>\n",
       "      <td>3</td>\n",
       "      <td>2</td>\n",
       "      <td>3</td>\n",
       "      <td>2</td>\n",
       "      <td>1</td>\n",
       "      <td>0</td>\n",
       "    </tr>\n",
       "    <tr>\n",
       "      <th>itraconazole</th>\n",
       "      <td>0</td>\n",
       "      <td>2</td>\n",
       "      <td>1</td>\n",
       "      <td>1</td>\n",
       "      <td>3</td>\n",
       "      <td>0</td>\n",
       "      <td>0</td>\n",
       "      <td>0</td>\n",
       "      <td>0</td>\n",
       "    </tr>\n",
       "    <tr>\n",
       "      <th>review</th>\n",
       "      <td>0</td>\n",
       "      <td>3</td>\n",
       "      <td>2</td>\n",
       "      <td>0</td>\n",
       "      <td>1</td>\n",
       "      <td>1</td>\n",
       "      <td>0</td>\n",
       "      <td>0</td>\n",
       "      <td>0</td>\n",
       "    </tr>\n",
       "    <tr>\n",
       "      <th>common</th>\n",
       "      <td>0</td>\n",
       "      <td>0</td>\n",
       "      <td>0</td>\n",
       "      <td>0</td>\n",
       "      <td>0</td>\n",
       "      <td>1</td>\n",
       "      <td>3</td>\n",
       "      <td>2</td>\n",
       "      <td>1</td>\n",
       "    </tr>\n",
       "    <tr>\n",
       "      <th>infection</th>\n",
       "      <td>0</td>\n",
       "      <td>0</td>\n",
       "      <td>0</td>\n",
       "      <td>0</td>\n",
       "      <td>0</td>\n",
       "      <td>0</td>\n",
       "      <td>1</td>\n",
       "      <td>0</td>\n",
       "      <td>0</td>\n",
       "    </tr>\n",
       "    <tr>\n",
       "      <th>infant</th>\n",
       "      <td>0</td>\n",
       "      <td>0</td>\n",
       "      <td>0</td>\n",
       "      <td>0</td>\n",
       "      <td>0</td>\n",
       "      <td>0</td>\n",
       "      <td>0</td>\n",
       "      <td>1</td>\n",
       "      <td>0</td>\n",
       "    </tr>\n",
       "    <tr>\n",
       "      <th>elderly</th>\n",
       "      <td>0</td>\n",
       "      <td>0</td>\n",
       "      <td>0</td>\n",
       "      <td>0</td>\n",
       "      <td>0</td>\n",
       "      <td>0</td>\n",
       "      <td>0</td>\n",
       "      <td>0</td>\n",
       "      <td>1</td>\n",
       "    </tr>\n",
       "  </tbody>\n",
       "</table>\n",
       "</div>"
      ],
      "text/plain": [
       "              treatment  oral  candidosis  itraconazole  review  common  \\\n",
       "treatment             1     3           2             1       0       0   \n",
       "oral                  0     1           3             2       1       2   \n",
       "candidosis            0     1           1             3       2       3   \n",
       "itraconazole          0     2           1             1       3       0   \n",
       "review                0     3           2             0       1       1   \n",
       "common                0     0           0             0       0       1   \n",
       "infection             0     0           0             0       0       0   \n",
       "infant                0     0           0             0       0       0   \n",
       "elderly               0     0           0             0       0       0   \n",
       "\n",
       "              infection  infant  elderly  \n",
       "treatment             0       0        0  \n",
       "oral                  1       0        0  \n",
       "candidosis            2       1        0  \n",
       "itraconazole          0       0        0  \n",
       "review                0       0        0  \n",
       "common                3       2        1  \n",
       "infection             1       0        0  \n",
       "infant                0       1        0  \n",
       "elderly               0       0        1  "
      ]
     },
     "execution_count": 62,
     "metadata": {},
     "output_type": "execute_result"
    }
   ],
   "source": [
    "A = nx.adjacency_matrix(G_sample).todense()\n",
    "np.fill_diagonal(A, 1)\n",
    "pd.DataFrame(np.around(A, 1), columns=G_sample.nodes, index=G_sample.nodes)"
   ]
  },
  {
   "cell_type": "code",
   "execution_count": 63,
   "metadata": {},
   "outputs": [
    {
     "data": {
      "image/png": "[encoded data removed]",
      "text/plain": [
       "<Figure size 720x288 with 1 Axes>"
      ]
     },
     "metadata": {},
     "output_type": "display_data"
    }
   ],
   "source": [
    "import matplotlib.pyplot as plt\n",
    "\n",
    "\n",
    "plt.figure(figsize=(10, 4))\n",
    "pos = nx.circular_layout(G_sample)\n",
    "nx.draw(G_sample, with_labels=True, pos=pos)\n",
    "plt.title('Window size = %d' % win_size, fontsize=18)\n",
    "pass"
   ]
  },
  {
   "cell_type": "markdown",
   "metadata": {},
   "source": [
    "# 3. Prepare & Train"
   ]
  },
  {
   "cell_type": "code",
   "execution_count": 76,
   "metadata": {},
   "outputs": [
    {
     "name": "stdout",
     "output_type": "stream",
     "text": [
      "MAX NODES: 108\n"
     ]
    }
   ],
   "source": [
    "putils = imp.reload(putils)\n",
    "\n",
    "\n",
    "MAX_NODES = putils.get_max_nodes(X_train_df, quantile=0.95, master_node=MASTER_NODE)\n",
    "print('MAX NODES:', MAX_NODES)"
   ]
  },
  {
   "cell_type": "code",
   "execution_count": 134,
   "metadata": {},
   "outputs": [
    {
     "data": {
      "application/vnd.jupyter.widget-view+json": {
       "model_id": "17aabb5943b04acaa7b24befdeb61d89",
       "version_major": 2,
       "version_minor": 0
      },
      "text/plain": [
       "HBox(children=(FloatProgress(value=0.0, max=3357.0), HTML(value='')))"
      ]
     },
     "metadata": {},
     "output_type": "display_data"
    },
    {
     "name": "stdout",
     "output_type": "stream",
     "text": [
      "\n"
     ]
    },
    {
     "data": {
      "text/plain": [
       "3"
      ]
     },
     "execution_count": 134,
     "metadata": {},
     "output_type": "execute_result"
    }
   ],
   "source": [
    "import preprocess.general as pgeneral\n",
    "pgeneral = imp.reload(pgeneral)\n",
    "\n",
    "\n",
    "\n",
    "WINDOW_SIZE = 3\n",
    "\n",
    "try:\n",
    "    del X_adj_test\n",
    "    del X_adj_train\n",
    "    del X_emb_test\n",
    "    del X_emb_train\n",
    "except:\n",
    "    pass\n",
    "\n",
    "\n",
    "X_adj_train, X_emb_train, Y_train = pgeneral.get_dataset_from_df(X_train_df, \n",
    "                                                                 MAX_NODES,  \n",
    "                                                                 window_size=WINDOW_SIZE,\n",
    "                                                                 term2id=term2id,\n",
    "                                                                    # pmi_matrix=pmi_matrix\n",
    "                                                                    )\n",
    "\n",
    "gc.collect()\n",
    "# X_adj_test, X_emb_test, Y_test = pgeneral.get_dataset_from_df(X_test_df, \n",
    "#                                                               MAX_NODES,  \n",
    "#                                                               window_size=WINDOW_SIZE,\n",
    "#                                                               term2id=term2id,\n",
    "#                                                             # pmi_matrix=pmi_matrix\n",
    "#                                                             ) \n",
    "# gc.collect()"
   ]
  },
  {
   "cell_type": "code",
   "execution_count": 135,
   "metadata": {},
   "outputs": [
    {
     "data": {
      "text/plain": [
       "array([[   0,    1,    2, ..., 3235, 3235, 3235],\n",
       "       [  38,   39,    3, ..., 3235, 3235, 3235],\n",
       "       [  98,   99,  100, ..., 3235, 3235, 3235],\n",
       "       ...,\n",
       "       [2760, 2681, 1948, ..., 3235, 3235, 3235],\n",
       "       [ 283,  647,  913, ..., 3235, 3235, 3235],\n",
       "       [3061, 1185,  193, ..., 3235, 3235, 3235]])"
      ]
     },
     "execution_count": 135,
     "metadata": {},
     "output_type": "execute_result"
    }
   ],
   "source": [
    "X_emb_train"
   ]
  },
  {
   "cell_type": "code",
   "execution_count": null,
   "metadata": {},
   "outputs": [],
   "source": [
    "from spektral.transforms import GCNFilter, AdjToSpTensor\n",
    "pgeneral = imp.reload(pgeneral)\n",
    "\n",
    "train_spektral = pgeneral.CustomDataset(X_emb_train, \n",
    "                                        X_adj_train, \n",
    "                                        Y_train, \n",
    "                                        transforms=[GCNFilter()]) #,  AdjToSpTensor()])\n",
    "gc.collect()\n",
    "test_spektral = pgeneral.CustomDataset(X_emb_test, \n",
    "                                       X_adj_test, \n",
    "                                       Y_test,  \n",
    "                                       transforms=[GCNFilter()])#,  AdjToSpTensor()])\n",
    "gc.collect()"
   ]
  }
 ],
 "metadata": {
  "kernelspec": {
   "display_name": "Python 3",
   "language": "python",
   "name": "python3"
  },
  "language_info": {
   "codemirror_mode": {
    "name": "ipython",
    "version": 3
   },
   "file_extension": ".py",
   "mimetype": "text/x-python",
   "name": "python",
   "nbconvert_exporter": "python",
   "pygments_lexer": "ipython3",
   "version": "3.7.7"
  }
 },
 "nbformat": 4,
 "nbformat_minor": 4
}
